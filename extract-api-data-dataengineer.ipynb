{
 "cells": [
  {
   "cell_type": "markdown",
   "id": "5e417b5c",
   "metadata": {
    "papermill": {
     "duration": 0.004558,
     "end_time": "2022-10-14T23:02:51.525909",
     "exception": false,
     "start_time": "2022-10-14T23:02:51.521351",
     "status": "completed"
    },
    "tags": []
   },
   "source": [
    "# Data Engineer - Extract API Data\n"
   ]
  },
  {
   "cell_type": "markdown",
   "id": "70ec0159",
   "metadata": {
    "papermill": {
     "duration": 0.002914,
     "end_time": "2022-10-14T23:02:51.532150",
     "exception": false,
     "start_time": "2022-10-14T23:02:51.529236",
     "status": "completed"
    },
    "tags": []
   },
   "source": [
    "## Objectives\n",
    "\n",
    "In this part you will:\n",
    "\n",
    "*   Collect exchange rate data using an API\n",
    "*   Store the data as a CSV\n"
   ]
  },
  {
   "cell_type": "markdown",
   "id": "c7f083dc",
   "metadata": {
    "papermill": {
     "duration": 0.002989,
     "end_time": "2022-10-14T23:02:51.538406",
     "exception": false,
     "start_time": "2022-10-14T23:02:51.535417",
     "status": "completed"
    },
    "tags": []
   },
   "source": [
    "For this lab, we are going to be using Python and several Python libraries. Some of these libraries might be installed in your lab environment or in SN Labs. Others may need to be installed by you. The cells below will install these libraries when executed.\n"
   ]
  },
  {
   "cell_type": "code",
   "execution_count": 1,
   "id": "dcbb377a",
   "metadata": {
    "execution": {
     "iopub.execute_input": "2022-10-14T23:02:51.547882Z",
     "iopub.status.busy": "2022-10-14T23:02:51.546966Z",
     "iopub.status.idle": "2022-10-14T23:02:51.553046Z",
     "shell.execute_reply": "2022-10-14T23:02:51.552070Z"
    },
    "papermill": {
     "duration": 0.0136,
     "end_time": "2022-10-14T23:02:51.555372",
     "exception": false,
     "start_time": "2022-10-14T23:02:51.541772",
     "status": "completed"
    },
    "tags": []
   },
   "outputs": [],
   "source": [
    "#!mamba install pandas==1.3.3 -y\n",
    "#!mamba install requests==2.26.0 -y"
   ]
  },
  {
   "cell_type": "markdown",
   "id": "ef83da7a",
   "metadata": {
    "papermill": {
     "duration": 0.003553,
     "end_time": "2022-10-14T23:02:51.561993",
     "exception": false,
     "start_time": "2022-10-14T23:02:51.558440",
     "status": "completed"
    },
    "tags": []
   },
   "source": [
    "## Imports\n",
    "\n",
    "Import any additional libraries you may need here.\n"
   ]
  },
  {
   "cell_type": "code",
   "execution_count": 2,
   "id": "f1a07123",
   "metadata": {
    "execution": {
     "iopub.execute_input": "2022-10-14T23:02:51.570194Z",
     "iopub.status.busy": "2022-10-14T23:02:51.569620Z",
     "iopub.status.idle": "2022-10-14T23:02:51.577070Z",
     "shell.execute_reply": "2022-10-14T23:02:51.576382Z"
    },
    "papermill": {
     "duration": 0.013649,
     "end_time": "2022-10-14T23:02:51.578927",
     "exception": false,
     "start_time": "2022-10-14T23:02:51.565278",
     "status": "completed"
    },
    "tags": []
   },
   "outputs": [],
   "source": [
    "import requests\n",
    "import pandas as pd"
   ]
  },
  {
   "cell_type": "markdown",
   "id": "1bfd3854",
   "metadata": {
    "papermill": {
     "duration": 0.002956,
     "end_time": "2022-10-14T23:02:51.585153",
     "exception": false,
     "start_time": "2022-10-14T23:02:51.582197",
     "status": "completed"
    },
    "tags": []
   },
   "source": [
    "## Extract Data Using an API\n"
   ]
  },
  {
   "cell_type": "markdown",
   "id": "f8034002",
   "metadata": {
    "papermill": {
     "duration": 0.002776,
     "end_time": "2022-10-14T23:02:51.591116",
     "exception": false,
     "start_time": "2022-10-14T23:02:51.588340",
     "status": "completed"
    },
    "tags": []
   },
   "source": [
    "Using ExchangeRate-API we will extract currency exchange rate data. Use the below steps to get the access key and to get the data.\n",
    "\n",
    "1.  Open the url : [https://exchangeratesapi.io/](https://exchangeratesapi.io/?utm_medium=Exinfluencer&utm_source=Exinfluencer&utm_content=000026UJ&utm_term=10006555&utm_id=NA-SkillsNetwork-Channel-SkillsNetworkCoursesIBMDeveloperSkillsNetworkPY0221ENSkillsNetwork23455645-2022-01-01) and click on **Get Free API Key**.\n",
    "2.  Subscribe for Free plan and Sign-in with the Google Account.\n",
    "3.  Once the account is created you will be redirected to [https://apilayer.com](https://apilayer.com/?utm_medium=Exinfluencer&utm_source=Exinfluencer&utm_content=000026UJ&utm_term=10006555&utm_id=NA-SkillsNetwork-Channel-SkillsNetworkCoursesIBMDeveloperSkillsNetworkPY0221ENSkillsNetwork23455645-2022-01-01) website.\n",
    "4.  Now, click on the **user icon** and click **Account** as shown below:\n",
    "\n",
    "<img src=\"https://cf-courses-data.s3.us.cloud-object-storage.appdomain.cloud/IBMDeveloperSkillsNetwork-PY0221EN-SkillsNetwork/labs/module%206/Final%20Assignment/Images/account.png\"/>\n",
    "\n",
    "3.  Scroll down and you will get the API Key section. Copy the API key and use in the url in Question 1.\n"
   ]
  },
  {
   "cell_type": "markdown",
   "id": "bea93a3e",
   "metadata": {
    "papermill": {
     "duration": 0.002713,
     "end_time": "2022-10-14T23:02:51.596935",
     "exception": false,
     "start_time": "2022-10-14T23:02:51.594222",
     "status": "completed"
    },
    "tags": []
   },
   "source": [
    "### Call the API\n",
    "\n",
    "<b> Question 1</b> Using the `requests` library call the endpoint given above and save the text, remember the first few characters of the output:\n"
   ]
  },
  {
   "cell_type": "code",
   "execution_count": 3,
   "id": "89b925b9",
   "metadata": {
    "execution": {
     "iopub.execute_input": "2022-10-14T23:02:51.603884Z",
     "iopub.status.busy": "2022-10-14T23:02:51.603522Z",
     "iopub.status.idle": "2022-10-14T23:02:51.996497Z",
     "shell.execute_reply": "2022-10-14T23:02:51.995405Z"
    },
    "papermill": {
     "duration": 0.400333,
     "end_time": "2022-10-14T23:02:52.000043",
     "exception": false,
     "start_time": "2022-10-14T23:02:51.599710",
     "status": "completed"
    },
    "tags": []
   },
   "outputs": [
    {
     "name": "stdout",
     "output_type": "stream",
     "text": [
      "['        \"AED\": 3.571494,', '        \"AFN\": 84.110998,', '        \"ALL\": 116.461659,', '        \"AMD\": 392.766045,', '        \"ANG\": 1.753097,', '        \"AOA\": 430.269309,', '        \"ARS\": 147.471604,', '        \"AUD\": 1.568626,', '        \"AWG\": 1.750206,', '        \"AZN\": 1.656832,', '        \"BAM\": 1.954266,', '        \"BBD\": 1.964149,', '        \"BDT\": 99.32042,', '        \"BGN\": 1.954872,', '        \"BHD\": 0.366648,', '        \"BIF\": 1995.234737,', '        \"BMD\": 0.972337,', '        \"BND\": 1.385519,', '        \"BOB\": 6.721934,', '        \"BRL\": 5.177904,', '        \"BSD\": 0.972781,', '        \"BTC\": 5.0754288e-05,', '        \"BTN\": 80.136393,', '        \"BWP\": 13.039028,', '        \"BYN\": 2.465926,', '        \"BYR\": 19057.797683,', '        \"BZD\": 1.960791,', '        \"CAD\": 1.349691,', '        \"CDF\": 1990.373406,', '        \"CHF\": 0.977786,', '        \"CLF\": 0.0339,', '        \"CLP\": 935.397933,', '        \"CNY\": 6.992112,', '        \"COP\": 4568.047148,', '        \"CRC\": 603.414184,', '        \"CUC\": 0.972337,', '        \"CUP\": 25.76692,', '        \"CVE\": 110.545333,', '        \"CZK\": 24.598211,', '        \"DJF\": 172.804046,', '        \"DKK\": 7.438865,', '        \"DOP\": 52.457943,', '        \"DZD\": 136.50367,', '        \"EGP\": 19.114669,', '        \"ERN\": 14.585049,', '        \"ETB\": 51.261968,', '        \"EUR\": 1,', '        \"FJD\": 2.277456,', '        \"FKP\": 0.858111,', '        \"GBP\": 0.869684,', '        \"GEL\": 2.674306,', '        \"GGP\": 0.858111,', '        \"GHS\": 10.647465,', '        \"GIP\": 0.858111,', '        \"GMD\": 54.694314,', '        \"GNF\": 8459.328909,', '        \"GTQ\": 7.650376,', '        \"GYD\": 203.519635,', '        \"HKD\": 7.633319,', '        \"HNL\": 24.085156,', '        \"HRK\": 7.526764,', '        \"HTG\": 121.588414,', '        \"HUF\": 417.592362,', '        \"IDR\": 15044.186598,', '        \"ILS\": 3.447498,', '        \"IMP\": 0.858111,', '        \"INR\": 80.138335,', '        \"IQD\": 1419.61146,', '        \"IRR\": 41178.456051,', '        \"ISK\": 140.54191,', '        \"JEP\": 0.858111,', '        \"JMD\": 148.556548,', '        \"JOD\": 0.689425,', '        \"JPY\": 144.669142,', '        \"KES\": 117.701722,', '        \"KGS\": 81.264592,', '        \"KHR\": 4030.335616,', '        \"KMF\": 489.523243,', '        \"KPW\": 875.102821,', '        \"KRW\": 1401.80835,', '        \"KWD\": 0.302012,', '        \"KYD\": 0.810676,', '        \"KZT\": 463.000308,', '        \"LAK\": 16388.73401,', '        \"LBP\": 1479.89667,', '        \"LKR\": 355.059723,', '        \"LRD\": 149.399892,', '        \"LSL\": 17.745514,', '        \"LTL\": 2.871058,', '        \"LVL\": 0.588157,', '        \"LYD\": 4.91067,', '        \"MAD\": 10.723939,', '        \"MDL\": 18.841823,', '        \"MGA\": 4108.122542,', '        \"MKD\": 61.565715,', '        \"MMK\": 2042.809419,', '        \"MNT\": 3266.832412,', '        \"MOP\": 7.865389,', '        \"MRO\": 347.124005,', '        \"MUR\": 42.92559,', '        \"MVR\": 15.032692,', '        \"MWK\": 995.190162,', '        \"MXN\": 19.519415,', '        \"MYR\": 4.571964,', '        \"MZN\": 62.064613,', '        \"NAD\": 17.74551,', '        \"NGN\": 423.141815,', '        \"NIO\": 34.926698,', '        \"NOK\": 10.327392,', '        \"NPR\": 128.216952,', '        \"NZD\": 1.747079,', '        \"OMR\": 0.374332,', '        \"PAB\": 0.972781,', '        \"PEN\": 3.848998,', '        \"PGK\": 3.42299,', '        \"PHP\": 57.378074,', '        \"PKR\": 212.212831,', '        \"PLN\": 4.801641,', '        \"PYG\": 6960.627817,', '        \"QAR\": 3.540315,', '        \"RON\": 4.934904,', '        \"RSD\": 117.28651,', '        \"RUB\": 60.917252,', '        \"RWF\": 1019.008774,', '        \"SAR\": 3.653379,', '        \"SBD\": 7.931052,', '        \"SCR\": 13.110179,', '        \"SDG\": 551.804606,', '        \"SEK\": 10.996578,', '        \"SGD\": 1.388492,', '        \"SHP\": 1.3393,', '        \"SLL\": 16213.713409,', '        \"SOS\": 552.776932,', '        \"SRD\": 27.314398,', '        \"STD\": 20125.404822,', '        \"SVC\": 8.511099,', '        \"SYP\": 2443.024952,', '        \"SZL\": 17.745503,', '        \"THB\": 37.212332,', '        \"TJS\": 9.872893,', '        \"TMT\": 3.412902,', '        \"TND\": 3.17128,', '        \"TOP\": 2.377898,', '        \"TRY\": 18.060281,', '        \"TTD\": 6.601023,', '        \"TWD\": 31.09212,', '        \"TZS\": 2268.374174,', '        \"UAH\": 35.924172,', '        \"UGX\": 3727.531011,', '        \"USD\": 0.972337,', '        \"UYU\": 40.022784,', '        \"UZS\": 10831.830233,', '        \"VND\": 23467.344239,', '        \"VUV\": 121.687822,', '        \"WST\": 2.766236,', '        \"XAF\": 655.472722,', '        \"XAG\": 0.053232,', '        \"XAU\": 0.000592,', '        \"XCD\": 2.627789,', '        \"XDR\": 0.762137,', '        \"XOF\": 652.92754,', '        \"XPF\": 119.062973,', '        \"YER\": 243.327592,', '        \"ZAR\": 17.85354,', '        \"ZMK\": 8752.199846,', '        \"ZMW\": 15.471492,', '        \"ZWL\": 313.091994']\n"
     ]
    }
   ],
   "source": [
    "# Write your code here\n",
    "url = \"https://api.apilayer.com/exchangerates_data/latest?base=EUR&apikey=3plTCLRkOn3b3kA5WboEeaPN7qIrx9zW\" #Make sure to change ******* to your API key.\n",
    "html_data = requests.get(url).text\n",
    "data_text = str(html_data).splitlines()[6:-2]\n",
    "\n",
    "print(data_text)"
   ]
  },
  {
   "cell_type": "markdown",
   "id": "d3c77a62",
   "metadata": {
    "papermill": {
     "duration": 0.003355,
     "end_time": "2022-10-14T23:02:52.007493",
     "exception": false,
     "start_time": "2022-10-14T23:02:52.004138",
     "status": "completed"
    },
    "tags": []
   },
   "source": [
    "### Save as DataFrame\n",
    "\n",
    "<b> Question 2</b>  Using the data gathered turn it into a `pandas` dataframe. The dataframe should have the Currency as the index and `Rate` as their columns. Make sure to drop unnecessary columns.\n"
   ]
  },
  {
   "cell_type": "code",
   "execution_count": 4,
   "id": "0e8ae74a",
   "metadata": {
    "execution": {
     "iopub.execute_input": "2022-10-14T23:02:52.015213Z",
     "iopub.status.busy": "2022-10-14T23:02:52.014898Z",
     "iopub.status.idle": "2022-10-14T23:02:52.331918Z",
     "shell.execute_reply": "2022-10-14T23:02:52.329911Z"
    },
    "papermill": {
     "duration": 0.323466,
     "end_time": "2022-10-14T23:02:52.334166",
     "exception": false,
     "start_time": "2022-10-14T23:02:52.010700",
     "status": "completed"
    },
    "tags": []
   },
   "outputs": [
    {
     "data": {
      "text/html": [
       "<div>\n",
       "<style scoped>\n",
       "    .dataframe tbody tr th:only-of-type {\n",
       "        vertical-align: middle;\n",
       "    }\n",
       "\n",
       "    .dataframe tbody tr th {\n",
       "        vertical-align: top;\n",
       "    }\n",
       "\n",
       "    .dataframe thead th {\n",
       "        text-align: right;\n",
       "    }\n",
       "</style>\n",
       "<table border=\"1\" class=\"dataframe\">\n",
       "  <thead>\n",
       "    <tr style=\"text-align: right;\">\n",
       "      <th></th>\n",
       "      <th>Rates</th>\n",
       "    </tr>\n",
       "    <tr>\n",
       "      <th>Currency</th>\n",
       "      <th></th>\n",
       "    </tr>\n",
       "  </thead>\n",
       "  <tbody>\n",
       "    <tr>\n",
       "      <th>AED</th>\n",
       "      <td>3.571494</td>\n",
       "    </tr>\n",
       "    <tr>\n",
       "      <th>AFN</th>\n",
       "      <td>84.110998</td>\n",
       "    </tr>\n",
       "    <tr>\n",
       "      <th>ALL</th>\n",
       "      <td>116.461659</td>\n",
       "    </tr>\n",
       "    <tr>\n",
       "      <th>AMD</th>\n",
       "      <td>392.766045</td>\n",
       "    </tr>\n",
       "    <tr>\n",
       "      <th>ANG</th>\n",
       "      <td>1.753097</td>\n",
       "    </tr>\n",
       "  </tbody>\n",
       "</table>\n",
       "</div>"
      ],
      "text/plain": [
       "                Rates\n",
       "Currency             \n",
       "AED          3.571494\n",
       "AFN         84.110998\n",
       "ALL        116.461659\n",
       "AMD        392.766045\n",
       "ANG          1.753097"
      ]
     },
     "execution_count": 4,
     "metadata": {},
     "output_type": "execute_result"
    }
   ],
   "source": [
    "# Turn the data into a dataframe\n",
    "data = pd.DataFrame(columns = [\"Currency\",\"Rates\"])\n",
    "for row in data_text:\n",
    "    col = row.split(\":\")\n",
    "    Currency = col[0].strip()[1:-1]\n",
    "    Rates = col[1].replace(\",\",\"\")\n",
    "    \n",
    "    \n",
    "    data = data.append({\"Currency\":Currency,\"Rates\":Rates},ignore_index=True)\n",
    "data.set_index('Currency',inplace=True)\n",
    "data.head(5)\n"
   ]
  },
  {
   "cell_type": "markdown",
   "id": "2cd29555",
   "metadata": {
    "papermill": {
     "duration": 0.003151,
     "end_time": "2022-10-14T23:02:52.341076",
     "exception": false,
     "start_time": "2022-10-14T23:02:52.337925",
     "status": "completed"
    },
    "tags": []
   },
   "source": [
    "### Load the Data\n",
    "\n",
    "Using the dataframe save it as a CSV names `exchange_rates_1.csv`.\n"
   ]
  },
  {
   "cell_type": "code",
   "execution_count": 5,
   "id": "04d24e54",
   "metadata": {
    "execution": {
     "iopub.execute_input": "2022-10-14T23:02:52.349956Z",
     "iopub.status.busy": "2022-10-14T23:02:52.349398Z",
     "iopub.status.idle": "2022-10-14T23:02:52.355728Z",
     "shell.execute_reply": "2022-10-14T23:02:52.354953Z"
    },
    "papermill": {
     "duration": 0.013012,
     "end_time": "2022-10-14T23:02:52.357686",
     "exception": false,
     "start_time": "2022-10-14T23:02:52.344674",
     "status": "completed"
    },
    "tags": []
   },
   "outputs": [],
   "source": [
    "# Save the Dataframe\n",
    "data.to_csv('exchange_rates_1.csv')"
   ]
  },
  {
   "cell_type": "markdown",
   "id": "416db29c",
   "metadata": {
    "papermill": {
     "duration": 0.003264,
     "end_time": "2022-10-14T23:02:52.364188",
     "exception": false,
     "start_time": "2022-10-14T23:02:52.360924",
     "status": "completed"
    },
    "tags": []
   },
   "source": [
    "Your CSV should be in this format with more currencies\n",
    "\n",
    "|     | Rates      |\n",
    "| --- | ---------- |\n",
    "| AED | 4.398618   |\n",
    "| AFN | 92.917693  |\n",
    "| ALL | 123.099093 |\n",
    "| AMD | 621.935674 |\n",
    "| ANG | 2.149648   |\n"
   ]
  }
 ],
 "metadata": {
  "kernelspec": {
   "display_name": "Python 3",
   "language": "python",
   "name": "python3"
  },
  "language_info": {
   "codemirror_mode": {
    "name": "ipython",
    "version": 3
   },
   "file_extension": ".py",
   "mimetype": "text/x-python",
   "name": "python",
   "nbconvert_exporter": "python",
   "pygments_lexer": "ipython3",
   "version": "3.7.12"
  },
  "papermill": {
   "default_parameters": {},
   "duration": 9.304112,
   "end_time": "2022-10-14T23:02:52.887169",
   "environment_variables": {},
   "exception": null,
   "input_path": "__notebook__.ipynb",
   "output_path": "__notebook__.ipynb",
   "parameters": {},
   "start_time": "2022-10-14T23:02:43.583057",
   "version": "2.3.4"
  }
 },
 "nbformat": 4,
 "nbformat_minor": 5
}
